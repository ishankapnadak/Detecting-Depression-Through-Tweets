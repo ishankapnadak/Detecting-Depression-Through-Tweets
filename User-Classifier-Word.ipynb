{
 "cells": [
  {
   "cell_type": "code",
   "execution_count": 1,
   "metadata": {},
   "outputs": [],
   "source": [
    "import warnings\n",
    "warnings.filterwarnings(\"ignore\")"
   ]
  },
  {
   "cell_type": "code",
   "execution_count": 2,
   "metadata": {},
   "outputs": [],
   "source": [
    "import re\n",
    "import preprocessor as prep\n",
    "from gensim.parsing.preprocessing import remove_stopwords\n",
    "from nltk import PorterStemmer\n",
    "\n",
    "def fix(row):\n",
    "    tweet = str(row['tweet'])\n",
    "    tweet = re.sub(\"`\", \"'\", tweet)\n",
    "    return tweet\n",
    "\n",
    "def preprocess_tweet(row):\n",
    "    tweet = str(row['tweet'])\n",
    "    tweet = prep.clean(tweet)\n",
    "    return tweet\n",
    "\n",
    "def stopword_removal(row):\n",
    "    tweet = str(row['tweet'])\n",
    "    tweet = remove_stopwords(tweet)\n",
    "    return tweet\n",
    "\n",
    "contraction_list = {\n",
    "  \"ain't\": \"am not\",\n",
    "  \"aren't\": \"are not\",\n",
    "  \"can't\": \"cannot\",\n",
    "  \"can't've\": \"cannot have\",\n",
    "  \"'cause\": \"because\",\n",
    "  \"could've\": \"could have\",\n",
    "  \"couldn't\": \"could not\",\n",
    "  \"couldn't've\": \"could not have\",\n",
    "  \"didn't\": \"did not\",\n",
    "  \"doesn't\": \"does not\",\n",
    "  \"don't\": \"do not\",\n",
    "  \"hadn't\": \"had not\",\n",
    "  \"hadn't've\": \"had not have\",\n",
    "  \"hasn't\": \"has not\",\n",
    "  \"haven't\": \"have not\",\n",
    "  \"he'd\": \"he would\",\n",
    "  \"he'd've\": \"he would have\",\n",
    "  \"he'll\": \"he will\",\n",
    "  \"he'll've\": \"he will have\",\n",
    "  \"he's\": \"he is\",\n",
    "  \"how'd\": \"how did\",\n",
    "  \"how'd'y\": \"how do you\",\n",
    "  \"how'll\": \"how will\",\n",
    "  \"how's\": \"how is\",\n",
    "  \"I'd\": \"I would\",\n",
    "  \"I'd've\": \"I would have\",\n",
    "  \"I'll\": \"I will\",\n",
    "  \"I'll've\": \"I will have\",\n",
    "  \"I'm\": \"I am\",\n",
    "  \"I've\": \"I have\",\n",
    "  \"isn't\": \"is not\",\n",
    "  \"it'd\": \"it had\",\n",
    "  \"it'd've\": \"it would have\",\n",
    "  \"it'll\": \"it will\",\n",
    "  \"it'll've\": \"it will have\",\n",
    "  \"it's\": \"it is\",\n",
    "  \"let's\": \"let us\",\n",
    "  \"ma'am\": \"madam\",\n",
    "  \"mayn't\": \"may not\",\n",
    "  \"might've\": \"might have\",\n",
    "  \"mightn't\": \"might not\",\n",
    "  \"mightn't've\": \"might not have\",\n",
    "  \"must've\": \"must have\",\n",
    "  \"mustn't\": \"must not\",\n",
    "  \"mustn't've\": \"must not have\",\n",
    "  \"needn't\": \"need not\",\n",
    "  \"needn't've\": \"need not have\",\n",
    "  \"o'clock\": \"of the clock\",\n",
    "  \"oughtn't\": \"ought not\",\n",
    "  \"oughtn't've\": \"ought not have\",\n",
    "  \"shan't\": \"shall not\",\n",
    "  \"sha'n't\": \"shall not\",\n",
    "  \"shan't've\": \"shall not have\",\n",
    "  \"she'd\": \"she would\",\n",
    "  \"she'd've\": \"she would have\",\n",
    "  \"she'll\": \"she will\",\n",
    "  \"she'll've\": \"she will have\",\n",
    "  \"she's\": \"she is\",\n",
    "  \"should've\": \"should have\",\n",
    "  \"shouldn't\": \"should not\",\n",
    "  \"shouldn't've\": \"should not have\",\n",
    "  \"so've\": \"so have\",\n",
    "  \"so's\": \"so is\",\n",
    "  \"that'd\": \"that would\",\n",
    "  \"that'd've\": \"that would have\",\"we'll\": \"we will\",\n",
    "  \"we'll've\": \"we will have\",\n",
    "  \"we're\": \"we are\",\n",
    "  \"we've\": \"we have\",\n",
    "  \"weren't\": \"were not\",\n",
    "  \"what'll\": \"what will\",\n",
    "  \"what'll've\": \"what will have\",\n",
    "  \"what're\": \"what are\",\n",
    "  \"what's\": \"what is\",\n",
    "  \"what've\": \"what have\",\n",
    "  \"when's\": \"when is\",\n",
    "  \"when've\": \"when have\",\n",
    "  \"where'd\": \"where did\",\n",
    "  \"where's\": \"where is\",\n",
    "  \"where've\": \"where have\",\n",
    "  \"who'll\": \"who will\",\n",
    "  \"who'll've\": \"who will have\",\n",
    "  \"who's\": \"who is\",\n",
    "  \"who've\": \"who have\",\n",
    "  \"why's\": \"why is\",\n",
    "  \"why've\": \"why have\",\n",
    "  \"will've\": \"will have\",\n",
    "  \"won't\": \"will not\",\n",
    "  \"won't've\": \"will not have\",\n",
    "  \"would've\": \"would have\",\n",
    "  \"wouldn't\": \"would not\",\n",
    "  \"wouldn't've\": \"would not have\",\n",
    "  \"y'all\": \"you all\",\n",
    "  \"y'alls\": \"you alls\",\n",
    "  \"y'all'd\": \"you all would\",\n",
    "  \"y'all'd've\": \"you all would have\",\n",
    "  \"y'all're\": \"you all are\",\n",
    "  \"y'all've\": \"you all have\",\n",
    "  \"you'd\": \"you had\",\n",
    "  \"you'd've\": \"you would have\",\n",
    "  \"you'll\": \"you you will\",\n",
    "  \"you'll've\": \"you you will have\",\n",
    "  \"you're\": \"you are\",\n",
    "  \"you've\": \"you have\"\n",
    "}\n",
    "\n",
    "c_re = re.compile('(%s)' % '|'.join(contraction_list.keys()))\n",
    "\n",
    "def expand_contractions(row, c_re=c_re):\n",
    "    tweet = str(row['tweet'])\n",
    "    def replace(match):\n",
    "        return contraction_list[match.group(0)]\n",
    "    return c_re.sub(replace, tweet)\n",
    "\n",
    "def format_tweet(row):\n",
    "    tweet = str(row['tweet'])\n",
    "    tweet = tweet.lower().replace('[^\\w\\s]',' ').replace('\\s\\s+', ' ')\n",
    "    return tweet\n",
    "\n",
    "def stem_tweet(row):\n",
    "    tweet = str(row['tweet'])\n",
    "    tweet = PorterStemmer().stem(tweet)\n",
    "    return tweet"
   ]
  },
  {
   "cell_type": "code",
   "execution_count": 3,
   "metadata": {},
   "outputs": [],
   "source": [
    "import twint\n",
    "import nest_asyncio\n",
    "import pandas as pd\n",
    "import numpy as np\n",
    "import pickle\n",
    "from keras.preprocessing.sequence import pad_sequences\n",
    "\n",
    "from keras.models import load_model\n",
    "cnn_model = load_model('cnn.h5')\n",
    "\n",
    "def classify(username):\n",
    "\n",
    "    nest_asyncio.apply()\n",
    "\n",
    "    c = twint.Config()\n",
    "    c.Username = username\n",
    "    c.Hide_output = True\n",
    "    c.Limit = 500\n",
    "    c.Pandas = True\n",
    "    twint.run.Search(c)\n",
    "    \n",
    "    df = twint.storage.panda.Tweets_df\n",
    "    if(len(df)<10):\n",
    "        print(\"Insufficient Data\")\n",
    "        return \n",
    "    else:\n",
    "        df = df[['tweet']]\n",
    "        df['tweet'] = df.apply(fix, axis=1)\n",
    "        df['tweet'] = df.apply(preprocess_tweet, axis=1)\n",
    "        df['tweet'] = df.apply(stopword_removal, axis=1)\n",
    "        df['tweet'] = df.apply(expand_contractions, axis=1)\n",
    "        df['tweet'] = df.apply(format_tweet, axis=1)\n",
    "        df['tweet'] = df.apply(stem_tweet, axis=1)\n",
    "\n",
    "        with open('tokenizer.pickle', 'rb') as handle:\n",
    "            tokenizer = pickle.load(handle)\n",
    "        \n",
    "        X = df['tweet'].tolist()\n",
    "        sequence = tokenizer.texts_to_sequences(X)\n",
    "        data = pad_sequences(sequence, maxlen=120)\n",
    "\n",
    "        labels_pred = cnn_model.predict(data)\n",
    "        labels_pred = np.round(labels_pred.flatten())\n",
    "        total = len(df)\n",
    "        positive = labels_pred.sum()\n",
    "        ratio = positive/total\n",
    "        print(f\"Number of tweets obtained : {total}\")\n",
    "        print(f\"Fraction of tweets that are indicative of depression : {ratio}\")\n",
    "        if(ratio<=0.02):\n",
    "            print(\"At low to no risk of depression\")\n",
    "            return\n",
    "        elif(ratio<=0.1):\n",
    "            print(\"At mild risk of depression\")\n",
    "            return\n",
    "        elif(ratio<=0.35):\n",
    "            print(\"At moderate risk of depression\")\n",
    "            return\n",
    "        else:\n",
    "            print(\"At significant risk of depression\")\n",
    "            return"
   ]
  },
  {
   "cell_type": "markdown",
   "metadata": {},
   "source": [
    "#### Celebrities with Depression"
   ]
  },
  {
   "cell_type": "code",
   "execution_count": 4,
   "metadata": {},
   "outputs": [
    {
     "name": "stdout",
     "output_type": "stream",
     "text": [
      "Number of tweets obtained : 500\n",
      "Fraction of tweets that are indicative of depression : 0.012\n",
      "At low to no risk of depression\n"
     ]
    }
   ],
   "source": [
    "classify(\"TheRock\")"
   ]
  },
  {
   "cell_type": "code",
   "execution_count": 5,
   "metadata": {},
   "outputs": [
    {
     "name": "stdout",
     "output_type": "stream",
     "text": [
      "Number of tweets obtained : 500\n",
      "Fraction of tweets that are indicative of depression : 0.024\n",
      "At mild risk of depression\n"
     ]
    }
   ],
   "source": [
    "classify('katyperry')"
   ]
  },
  {
   "cell_type": "code",
   "execution_count": 6,
   "metadata": {},
   "outputs": [
    {
     "name": "stdout",
     "output_type": "stream",
     "text": [
      "Number of tweets obtained : 500\n",
      "Fraction of tweets that are indicative of depression : 0.034\n",
      "At mild risk of depression\n"
     ]
    }
   ],
   "source": [
    "classify('ladygaga')"
   ]
  },
  {
   "cell_type": "code",
   "execution_count": 7,
   "metadata": {},
   "outputs": [
    {
     "name": "stdout",
     "output_type": "stream",
     "text": [
      "Number of tweets obtained : 500\n",
      "Fraction of tweets that are indicative of depression : 0.022\n",
      "At mild risk of depression\n"
     ]
    }
   ],
   "source": [
    "classify('jk_rowling')"
   ]
  },
  {
   "cell_type": "code",
   "execution_count": 8,
   "metadata": {},
   "outputs": [
    {
     "name": "stdout",
     "output_type": "stream",
     "text": [
      "Number of tweets obtained : 500\n",
      "Fraction of tweets that are indicative of depression : 0.02\n",
      "At low to no risk of depression\n"
     ]
    }
   ],
   "source": [
    "classify('deepikapadukone')"
   ]
  },
  {
   "cell_type": "markdown",
   "metadata": {},
   "source": [
    "#### Random Twitter Pages"
   ]
  },
  {
   "cell_type": "code",
   "execution_count": 9,
   "metadata": {},
   "outputs": [
    {
     "name": "stdout",
     "output_type": "stream",
     "text": [
      "Number of tweets obtained : 500\n",
      "Fraction of tweets that are indicative of depression : 0.018\n",
      "At low to no risk of depression\n"
     ]
    }
   ],
   "source": [
    "classify('ndtv')"
   ]
  },
  {
   "cell_type": "code",
   "execution_count": 10,
   "metadata": {},
   "outputs": [
    {
     "name": "stdout",
     "output_type": "stream",
     "text": [
      "Number of tweets obtained : 500\n",
      "Fraction of tweets that are indicative of depression : 0.0\n",
      "At low to no risk of depression\n"
     ]
    }
   ],
   "source": [
    "classify('IPL')"
   ]
  },
  {
   "cell_type": "code",
   "execution_count": 11,
   "metadata": {},
   "outputs": [
    {
     "name": "stdout",
     "output_type": "stream",
     "text": [
      "Number of tweets obtained : 500\n",
      "Fraction of tweets that are indicative of depression : 0.012\n",
      "At low to no risk of depression\n"
     ]
    }
   ],
   "source": [
    "classify('bonappetit')"
   ]
  },
  {
   "cell_type": "code",
   "execution_count": 12,
   "metadata": {},
   "outputs": [
    {
     "name": "stdout",
     "output_type": "stream",
     "text": [
      "Number of tweets obtained : 500\n",
      "Fraction of tweets that are indicative of depression : 0.002\n",
      "At low to no risk of depression\n"
     ]
    }
   ],
   "source": [
    "classify('AnimalPlanet')"
   ]
  },
  {
   "cell_type": "code",
   "execution_count": 13,
   "metadata": {},
   "outputs": [
    {
     "name": "stdout",
     "output_type": "stream",
     "text": [
      "Number of tweets obtained : 500\n",
      "Fraction of tweets that are indicative of depression : 0.01\n",
      "At low to no risk of depression\n"
     ]
    }
   ],
   "source": [
    "classify('Funfacts')"
   ]
  },
  {
   "cell_type": "code",
   "execution_count": null,
   "metadata": {},
   "outputs": [],
   "source": []
  }
 ],
 "metadata": {
  "kernelspec": {
   "display_name": "Python 3",
   "language": "python",
   "name": "python3"
  },
  "language_info": {
   "codemirror_mode": {
    "name": "ipython",
    "version": 3
   },
   "file_extension": ".py",
   "mimetype": "text/x-python",
   "name": "python",
   "nbconvert_exporter": "python",
   "pygments_lexer": "ipython3",
   "version": "3.7.6"
  }
 },
 "nbformat": 4,
 "nbformat_minor": 4
}
