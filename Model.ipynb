{
 "cells": [
  {
   "cell_type": "code",
   "execution_count": 1,
   "metadata": {},
   "outputs": [],
   "source": [
    "import pandas as pd\n",
    "import numpy as np\n",
    "\n",
    "random_df = pd.read_csv('random_tweets_processed.csv')\n",
    "depressed_df = pd.read_csv('depressive_tweets_processed.csv')\n",
    "random_df.tweet = random_df.tweet.astype(str)\n",
    "depressed_df.tweet = depressed_df.tweet.astype(str)"
   ]
  },
  {
   "cell_type": "code",
   "execution_count": 2,
   "metadata": {},
   "outputs": [],
   "source": [
    "from gensim.models import KeyedVectors\n",
    "EMBEDDING_FILE = 'GoogleNews-vectors-negative300.bin.gz'\n",
    "word2vec = KeyedVectors.load_word2vec_format(EMBEDDING_FILE, binary=True)"
   ]
  },
  {
   "cell_type": "code",
   "execution_count": 3,
   "metadata": {},
   "outputs": [],
   "source": [
    "X_r = random_df['tweet'].tolist()\n",
    "X_d = depressed_df['tweet'].tolist()"
   ]
  },
  {
   "cell_type": "code",
   "execution_count": 4,
   "metadata": {},
   "outputs": [],
   "source": [
    "from keras.preprocessing.text import Tokenizer\n",
    "from keras.preprocessing.sequence import pad_sequences\n",
    "\n",
    "tokenizer = Tokenizer(num_words = 20000)\n",
    "tokenizer.fit_on_texts(X_d + X_r)"
   ]
  },
  {
   "cell_type": "code",
   "execution_count": 5,
   "metadata": {},
   "outputs": [],
   "source": [
    "sequence_d = tokenizer.texts_to_sequences(X_d)\n",
    "sequence_r = tokenizer.texts_to_sequences(X_r)"
   ]
  },
  {
   "cell_type": "code",
   "execution_count": 6,
   "metadata": {},
   "outputs": [],
   "source": [
    "data_d = pad_sequences(sequence_d, maxlen=280)\n",
    "data_r = pad_sequences(sequence_r, maxlen=280)"
   ]
  },
  {
   "cell_type": "code",
   "execution_count": 7,
   "metadata": {},
   "outputs": [
    {
     "name": "stdout",
     "output_type": "stream",
     "text": [
      "Found 12635 unique tokens\n"
     ]
    }
   ],
   "source": [
    "word_index = tokenizer.word_index\n",
    "print('Found %s unique tokens' % len(word_index))"
   ]
  },
  {
   "cell_type": "code",
   "execution_count": 8,
   "metadata": {},
   "outputs": [],
   "source": [
    "nb_words = min(20000, len(word_index))\n",
    "\n",
    "embedding_matrix = np.zeros((nb_words+1, 300))\n",
    "\n",
    "for (word, idx) in word_index.items():\n",
    "    if word in word2vec.vocab and idx < 20000:\n",
    "        embedding_matrix[idx] = word2vec.word_vec(word)"
   ]
  },
  {
   "cell_type": "code",
   "execution_count": 9,
   "metadata": {},
   "outputs": [],
   "source": [
    "d_rows = len(data_d)\n",
    "r_rows = len(data_r)\n",
    "\n",
    "labels_d = np.array([1] * d_rows)\n",
    "labels_r = np.array([0] * r_rows)\n",
    "\n",
    "perm_d = np.random.permutation(d_rows)\n",
    "train_d_idx = perm_d[:int((0.7)*(d_rows))]\n",
    "val_d_idx = perm_d[int((0.7)*(d_rows)) : int((0.85)*(d_rows))]\n",
    "test_d_idx = perm_d[int((0.85)*(d_rows)):]\n",
    "\n",
    "perm_r = np.random.permutation(r_rows)\n",
    "train_r_idx = perm_r[:int((0.7)*(r_rows))]\n",
    "val_r_idx = perm_r[int((0.7)*(r_rows)) : int((0.85)*(r_rows))]\n",
    "test_r_idx = perm_r[int((0.85)*(r_rows)):]\n",
    "\n",
    "data_train = np.concatenate((data_d[train_d_idx], data_r[train_r_idx]))\n",
    "labels_train = np.concatenate((labels_d[train_d_idx], labels_r[train_r_idx]))\n",
    "data_val = np.concatenate((data_d[val_d_idx], data_r[val_r_idx]))\n",
    "labels_val = np.concatenate((labels_d[val_d_idx], labels_r[val_r_idx]))\n",
    "data_test = np.concatenate((data_d[test_d_idx], data_r[test_r_idx]))\n",
    "labels_test = np.concatenate((labels_d[test_d_idx], labels_r[test_r_idx]))\n",
    "\n",
    "perm_train = np.random.permutation(len(data_train))\n",
    "data_train = data_train[perm_train]\n",
    "labels_train = labels_train[perm_train]\n",
    "perm_test = np.random.permutation(len(data_test))\n",
    "data_test = data_test[perm_test]\n",
    "labels_test = labels_test[perm_test]\n",
    "perm_val = np.random.permutation(len(data_val))\n",
    "data_val = data_val[perm_val]\n",
    "labels_val = labels_val[perm_val]"
   ]
  },
  {
   "cell_type": "code",
   "execution_count": 10,
   "metadata": {},
   "outputs": [],
   "source": [
    "from keras.models import Model, Sequential\n",
    "from keras.callbacks import EarlyStopping, ModelCheckpoint\n",
    "from keras.layers import Conv1D, Dense, Input, LSTM, Embedding, Dropout, Activation, MaxPooling1D"
   ]
  },
  {
   "cell_type": "code",
   "execution_count": 36,
   "metadata": {},
   "outputs": [],
   "source": [
    "model = Sequential()\n",
    "\n",
    "model.add(Embedding(len(embedding_matrix), 300, weights=[embedding_matrix],\n",
    "                   input_length=280, trainable=False))\n",
    "\n",
    "model.add(Conv1D(filters=64, kernel_size=2, padding='same', activation='relu'))\n",
    "\n",
    "model.add(MaxPooling1D(pool_size=2))\n",
    "\n",
    "model.add(Dropout(0.2))\n",
    "\n",
    "model.add(LSTM(300))\n",
    "\n",
    "model.add(Dropout(0.2))\n",
    "\n",
    "model.add(Dense(1, activation='sigmoid'))"
   ]
  },
  {
   "cell_type": "code",
   "execution_count": 37,
   "metadata": {},
   "outputs": [
    {
     "name": "stdout",
     "output_type": "stream",
     "text": [
      "Model: \"sequential_4\"\n",
      "_________________________________________________________________\n",
      "Layer (type)                 Output Shape              Param #   \n",
      "=================================================================\n",
      "embedding_4 (Embedding)      (None, 280, 300)          3790800   \n",
      "_________________________________________________________________\n",
      "conv1d_6 (Conv1D)            (None, 280, 64)           38464     \n",
      "_________________________________________________________________\n",
      "max_pooling1d_6 (MaxPooling1 (None, 140, 64)           0         \n",
      "_________________________________________________________________\n",
      "dropout_8 (Dropout)          (None, 140, 64)           0         \n",
      "_________________________________________________________________\n",
      "lstm_4 (LSTM)                (None, 300)               438000    \n",
      "_________________________________________________________________\n",
      "dropout_9 (Dropout)          (None, 300)               0         \n",
      "_________________________________________________________________\n",
      "dense_5 (Dense)              (None, 1)                 301       \n",
      "=================================================================\n",
      "Total params: 4,267,565\n",
      "Trainable params: 476,765\n",
      "Non-trainable params: 3,790,800\n",
      "_________________________________________________________________\n",
      "None\n"
     ]
    }
   ],
   "source": [
    "model.compile(loss='binary_crossentropy', optimizer = 'nadam', metrics=['acc'])\n",
    "print(model.summary())"
   ]
  },
  {
   "cell_type": "code",
   "execution_count": 38,
   "metadata": {},
   "outputs": [
    {
     "name": "stdout",
     "output_type": "stream",
     "text": [
      "Epoch 1/10\n",
      "205/205 [==============================] - 72s 351ms/step - loss: 0.1934 - acc: 0.9330 - val_loss: 0.0605 - val_acc: 0.9843\n",
      "Epoch 2/10\n",
      "205/205 [==============================] - 63s 308ms/step - loss: 0.0776 - acc: 0.9728 - val_loss: 0.0536 - val_acc: 0.9836\n",
      "Epoch 3/10\n",
      "205/205 [==============================] - 67s 326ms/step - loss: 0.0469 - acc: 0.9841 - val_loss: 0.0420 - val_acc: 0.9900\n",
      "Epoch 4/10\n",
      "205/205 [==============================] - 71s 349ms/step - loss: 0.0365 - acc: 0.9888 - val_loss: 0.0387 - val_acc: 0.9914\n",
      "Epoch 5/10\n",
      "205/205 [==============================] - 76s 371ms/step - loss: 0.0290 - acc: 0.9902 - val_loss: 0.0406 - val_acc: 0.9879\n",
      "Epoch 6/10\n",
      "205/205 [==============================] - 72s 353ms/step - loss: 0.0265 - acc: 0.9914 - val_loss: 0.0373 - val_acc: 0.9907\n",
      "Epoch 7/10\n",
      "205/205 [==============================] - 71s 345ms/step - loss: 0.0205 - acc: 0.9937 - val_loss: 0.0430 - val_acc: 0.9907\n",
      "Epoch 8/10\n",
      "205/205 [==============================] - 73s 357ms/step - loss: 0.0251 - acc: 0.9914 - val_loss: 0.0426 - val_acc: 0.9900\n",
      "Epoch 9/10\n",
      "205/205 [==============================] - 71s 347ms/step - loss: 0.0149 - acc: 0.9953 - val_loss: 0.0440 - val_acc: 0.9893\n"
     ]
    }
   ],
   "source": [
    "early_stop = EarlyStopping(monitor = 'val_loss', patience=3)\n",
    "\n",
    "hist = model.fit(data_train, labels_train, \\\n",
    "        validation_data=(data_val, labels_val), \\\n",
    "        epochs=10, batch_size=32, shuffle=True, \\\n",
    "        callbacks = [early_stop])"
   ]
  },
  {
   "cell_type": "code",
   "execution_count": 40,
   "metadata": {},
   "outputs": [
    {
     "data": {
      "image/png": "[encoded data removed]",
      "text/plain": [
       "<Figure size 432x288 with 1 Axes>"
      ]
     },
     "metadata": {
      "needs_background": "light"
     },
     "output_type": "display_data"
    }
   ],
   "source": [
    "import matplotlib.pyplot as plt\n",
    "\n",
    "\n",
    "plt.plot(hist.history['acc'])\n",
    "plt.plot(hist.history['val_acc'])\n",
    "plt.title('model accuracy')\n",
    "plt.ylabel('accuracy')\n",
    "plt.xlabel('epoch')\n",
    "plt.legend(['train', 'validation'], loc='upper left')\n",
    "plt.show()"
   ]
  },
  {
   "cell_type": "code",
   "execution_count": 41,
   "metadata": {},
   "outputs": [
    {
     "data": {
      "image/png": "[encoded data removed]",
      "text/plain": [
       "<Figure size 432x288 with 1 Axes>"
      ]
     },
     "metadata": {
      "needs_background": "light"
     },
     "output_type": "display_data"
    }
   ],
   "source": [
    "plt.plot(hist.history['loss'])\n",
    "plt.plot(hist.history['val_loss'])\n",
    "plt.title('model loss')\n",
    "plt.ylabel('loss')\n",
    "plt.xlabel('epoch')\n",
    "plt.legend(['train', 'test'], loc='upper left')\n",
    "plt.show()"
   ]
  },
  {
   "cell_type": "code",
   "execution_count": 42,
   "metadata": {},
   "outputs": [
    {
     "name": "stdout",
     "output_type": "stream",
     "text": [
      "Accuracy: 98.57%\n"
     ]
    }
   ],
   "source": [
    "from sklearn.metrics import accuracy_score\n",
    "\n",
    "labels_pred = model.predict(data_test)\n",
    "labels_pred = np.round(labels_pred.flatten())\n",
    "accuracy = accuracy_score(labels_test, labels_pred)\n",
    "print(\"Accuracy: %.2f%%\" % (accuracy*100))"
   ]
  },
  {
   "cell_type": "code",
   "execution_count": 43,
   "metadata": {},
   "outputs": [
    {
     "name": "stdout",
     "output_type": "stream",
     "text": [
      "              precision    recall  f1-score   support\n",
      "\n",
      "           0       0.99      1.00      0.99      1206\n",
      "           1       0.97      0.93      0.95       195\n",
      "\n",
      "    accuracy                           0.99      1401\n",
      "   macro avg       0.98      0.96      0.97      1401\n",
      "weighted avg       0.99      0.99      0.99      1401\n",
      "\n"
     ]
    }
   ],
   "source": [
    "from sklearn.metrics import  classification_report\n",
    "\n",
    "print(classification_report(labels_test, labels_pred))"
   ]
  },
  {
   "cell_type": "code",
   "execution_count": 28,
   "metadata": {},
   "outputs": [],
   "source": [
    "X_train = np.concatenate((data_train, data_val))\n",
    "y_train = np.concatenate((labels_train, labels_val))"
   ]
  },
  {
   "cell_type": "code",
   "execution_count": 29,
   "metadata": {},
   "outputs": [
    {
     "data": {
      "text/plain": [
       "0.8686652391149179"
      ]
     },
     "execution_count": 29,
     "metadata": {},
     "output_type": "execute_result"
    }
   ],
   "source": [
    "from sklearn.linear_model import LogisticRegression\n",
    "\n",
    "logreg = LogisticRegression(max_iter = 5000)\n",
    "logreg.fit(X_train, y_train)\n",
    "logreg.score(data_test, labels_test)"
   ]
  },
  {
   "cell_type": "code",
   "execution_count": null,
   "metadata": {},
   "outputs": [],
   "source": []
  }
 ],
 "metadata": {
  "kernelspec": {
   "display_name": "Python 3",
   "language": "python",
   "name": "python3"
  },
  "language_info": {
   "codemirror_mode": {
    "name": "ipython",
    "version": 3
   },
   "file_extension": ".py",
   "mimetype": "text/x-python",
   "name": "python",
   "nbconvert_exporter": "python",
   "pygments_lexer": "ipython3",
   "version": "3.7.6"
  }
 },
 "nbformat": 4,
 "nbformat_minor": 4
}
